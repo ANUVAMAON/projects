{
  "cells": [
    {
      "cell_type": "code",
      "execution_count": 1,
      "metadata": {
        "id": "LysoaeORxdt8"
      },
      "outputs": [],
      "source": [
        "import pandas as pd\n",
        "import numpy as np\n",
        "import matplotlib.pyplot as plt\n",
        "import seaborn as sns\n",
        "import optuna\n",
        "from sklearn.linear_model import LinearRegression, SGDClassifier\n",
        "from sklearn.preprocessing import PolynomialFeatures\n",
        "from sklearn.tree import DecisionTreeRegressor\n",
        "from sklearn.ensemble import GradientBoostingRegressor\n",
        "from sklearn.linear_model import Ridge\n",
        "from sklearn.model_selection import train_test_split, cross_val_score\n",
        "from sklearn.metrics import r2_score, mean_absolute_error, mean_squared_error, accuracy_score"
      ]
    },
    {
      "cell_type": "code",
      "execution_count": 27,
      "metadata": {
        "id": "c_2806rDzO70"
      },
      "outputs": [],
      "source": [
        "df_test = pd.read_csv(\"./test.csv\")\n",
        "df_train = pd.read_csv(\"./train.csv\")\n",
        "df_sub = pd.read_csv(\"./sample_submission.csv\")\n",
        "\n",
        "y = df_train['SalePrice']\n",
        "\n",
        "concat = pd.concat([df_test, df_train])\n",
        "\n",
        "concat = concat.drop(['Id','Street','Alley','Utilities','Condition2','RoofMatl','Heating','CentralAir','Electrical','LowQualFinSF','KitchenAbvGr','PoolArea','PoolQC','MiscVal'],axis=1)\n",
        "concat.loc[concat['MSSubClass'] == \"150\", \"MSSubClass\"] = \"160\"\n",
        "# ------------MSZoning----------------\n",
        "concat.loc[concat['MSZoning'] == \"A\", \"MSZoning\"] = \"1\"\n",
        "concat.loc[concat['MSZoning'] == \"C\", \"MSZoning\"] = \"2\"\n",
        "concat.loc[concat['MSZoning'] == \"FV\", \"MSZoning\"] = \"3\"\n",
        "concat.loc[concat['MSZoning'] == \"I\", \"MSZoning\"] = \"4\"\n",
        "concat.loc[concat['MSZoning'] == \"RH\", \"MSZoning\"] = \"5\"\n",
        "concat.loc[concat['MSZoning'] == \"RL\", \"MSZoning\"] = \"6\"\n",
        "concat.loc[concat['MSZoning'] == \"RP\", \"MSZoning\"] = \"7\"\n",
        "concat.loc[concat['MSZoning'] == \"RM\", \"MSZoning\"] = \"8\"\n",
        "concat.loc[concat['MSZoning'] == \"C (all)\", \"MSZoning\"] = \"9\"\n",
        "\n",
        "# ------------LotShape----------------\n",
        "concat.loc[concat['LotShape'] == \"Reg\", \"LotShape\"] = \"1\"\n",
        "concat.loc[concat['LotShape'] == \"IR1\", \"LotShape\"] = \"2\"\n",
        "concat.loc[concat['LotShape'] == \"IR2\", \"LotShape\"] = \"3\"\n",
        "concat.loc[concat['LotShape'] == \"IR3\", \"LotShape\"] = \"4\"\n",
        "\n",
        "# ------------LandContour----------------\n",
        "concat.loc[concat['LandContour'] == \"Lvl\", \"LandContour\"] = \"1\"\n",
        "concat.loc[concat['LandContour'] == \"Bnk\", \"LandContour\"] = \"2\"\n",
        "concat.loc[concat['LandContour'] == \"HLS\", \"LandContour\"] = \"3\"\n",
        "concat.loc[concat['LandContour'] == \"Low\", \"LandContour\"] = \"4\"\n",
        "\n",
        "# ------------LotConfig----------------\n",
        "concat.loc[concat['LotConfig'] == \"Inside\", \"LotConfig\"] = \"1\"\n",
        "concat.loc[concat['LotConfig'] == \"Corner\", \"LotConfig\"] = \"2\"\n",
        "concat.loc[concat['LotConfig'] == \"CulDSac\", \"LotConfig\"] = \"3\"\n",
        "concat.loc[concat['LotConfig'] == \"FR2\", \"LotConfig\"] = \"4\"\n",
        "concat.loc[concat['LotConfig'] == \"FR3\", \"LotConfig\"] = \"5\"\n",
        "\n",
        "# ------------LandSlope----------------\n",
        "concat.loc[concat['LandSlope'] == \"Gtl\", \"LandSlope\"] = \"1\"\n",
        "concat.loc[concat['LandSlope'] == \"Mod\", \"LandSlope\"] = \"2\"\n",
        "concat.loc[concat['LandSlope'] == \"Sev\", \"LandSlope\"] = \"3\"\n",
        "\n",
        "# ------------Neighborhood----------------\n",
        "concat.loc[concat['Neighborhood'] == \"Blmngtn\", \"Neighborhood\"] = \"1\"\n",
        "concat.loc[concat['Neighborhood'] == \"Blueste\", \"Neighborhood\"] = \"2\"\n",
        "concat.loc[concat['Neighborhood'] == \"BrDale\", \"Neighborhood\"] = \"3\"\n",
        "concat.loc[concat['Neighborhood'] == \"BrkSide\", \"Neighborhood\"] = \"4\"\n",
        "concat.loc[concat['Neighborhood'] == \"ClearCr\", \"Neighborhood\"] = \"5\"\n",
        "concat.loc[concat['Neighborhood'] == \"CollgCr\", \"Neighborhood\"] = \"6\"\n",
        "concat.loc[concat['Neighborhood'] == \"Crawfor\", \"Neighborhood\"] = \"7\"\n",
        "concat.loc[concat['Neighborhood'] == \"Edwards\", \"Neighborhood\"] = \"8\"\n",
        "concat.loc[concat['Neighborhood'] == \"Gilbert\", \"Neighborhood\"] = \"9\"\n",
        "concat.loc[concat['Neighborhood'] == \"IDOTRR\", \"Neighborhood\"] = \"10\"\n",
        "concat.loc[concat['Neighborhood'] == \"MeadowV\", \"Neighborhood\"] = \"11\"\n",
        "concat.loc[concat['Neighborhood'] == \"Mitchel\", \"Neighborhood\"] = \"12\"\n",
        "concat.loc[concat['Neighborhood'] == \"NAmes\", \"Neighborhood\"] = \"13\"\n",
        "concat.loc[concat['Neighborhood'] == \"NoRidge\", \"Neighborhood\"] = \"14\"\n",
        "concat.loc[concat['Neighborhood'] == \"NPkVill\", \"Neighborhood\"] = \"15\"\n",
        "concat.loc[concat['Neighborhood'] == \"NridgHt\", \"Neighborhood\"] = \"16\"\n",
        "concat.loc[concat['Neighborhood'] == \"NWAmes\", \"Neighborhood\"] = \"17\"\n",
        "concat.loc[concat['Neighborhood'] == \"OldTown\", \"Neighborhood\"] = \"18\"\n",
        "concat.loc[concat['Neighborhood'] == \"SWISU\", \"Neighborhood\"] = \"19\"\n",
        "concat.loc[concat['Neighborhood'] == \"Sawyer\", \"Neighborhood\"] = \"20\"\n",
        "concat.loc[concat['Neighborhood'] == \"SawyerW\", \"Neighborhood\"] = \"21\"\n",
        "concat.loc[concat['Neighborhood'] == \"Somerst\", \"Neighborhood\"] = \"22\"\n",
        "concat.loc[concat['Neighborhood'] == \"StoneBr\", \"Neighborhood\"] = \"23\"\n",
        "concat.loc[concat['Neighborhood'] == \"Timber\", \"Neighborhood\"] = \"24\"\n",
        "concat.loc[concat['Neighborhood'] == \"Veenker\", \"Neighborhood\"] = \"25\"\n",
        "\n",
        "# ------------Condition1----------------\n",
        "concat.loc[concat['Condition1'] == \"Artery\", \"Condition1\"] = \"1\"\n",
        "concat.loc[concat['Condition1'] == \"Feedr\", \"Condition1\"] = \"2\"\n",
        "concat.loc[concat['Condition1'] == \"Norm\", \"Condition1\"] = \"3\"\n",
        "concat.loc[concat['Condition1'] == \"RRNn\", \"Condition1\"] = \"4\"\n",
        "concat.loc[concat['Condition1'] == \"RRAn\", \"Condition1\"] = \"5\"\n",
        "concat.loc[concat['Condition1'] == \"PosN\", \"Condition1\"] = \"6\"\n",
        "concat.loc[concat['Condition1'] == \"PosA\", \"Condition1\"] = \"7\"\n",
        "concat.loc[concat['Condition1'] == \"RRNe\", \"Condition1\"] = \"8\"\n",
        "concat.loc[concat['Condition1'] == \"RRAe\", \"Condition1\"] = \"9\"\n",
        "\n",
        "# ------------BldgType----------------\n",
        "concat.loc[concat['BldgType'] == \"1Fam\", \"BldgType\"] = \"1\"\n",
        "concat.loc[concat['BldgType'] == \"2fmCon\", \"BldgType\"] = \"2\"\n",
        "concat.loc[concat['BldgType'] == \"Duplex\", \"BldgType\"] = \"3\"\n",
        "concat.loc[concat['BldgType'] == \"TwnhsE\", \"BldgType\"] = \"4\"\n",
        "concat.loc[concat['BldgType'] == \"Twnhs\", \"BldgType\"] = \"5\"\n",
        "\n",
        "# ------------HouseStyle----------------\n",
        "concat.loc[concat['HouseStyle'] == \"1Story\", \"HouseStyle\"] = \"1\"\n",
        "concat.loc[concat['HouseStyle'] == \"1.5Fin\", \"HouseStyle\"] = \"2\"\n",
        "concat.loc[concat['HouseStyle'] == \"1.5Unf\", \"HouseStyle\"] = \"2\"\n",
        "concat.loc[concat['HouseStyle'] == \"2Story\", \"HouseStyle\"] = \"3\"\n",
        "concat.loc[concat['HouseStyle'] == \"2.5Fin\", \"HouseStyle\"] = \"4\"\n",
        "concat.loc[concat['HouseStyle'] == \"2.5Unf\", \"HouseStyle\"] = \"4\"\n",
        "concat.loc[concat['HouseStyle'] == \"SFoyer\", \"HouseStyle\"] = \"5\"\n",
        "concat.loc[concat['HouseStyle'] == \"SLvl\", \"HouseStyle\"] = \"6\"\n",
        "\n",
        "# ------------RoofStyle----------------\n",
        "concat.loc[concat['RoofStyle'] == \"Flat\", \"RoofStyle\"] = \"1\"\n",
        "concat.loc[concat['RoofStyle'] == \"Gable\", \"RoofStyle\"] = \"2\"\n",
        "concat.loc[concat['RoofStyle'] == \"Gambrel\", \"RoofStyle\"] = \"3\"\n",
        "concat.loc[concat['RoofStyle'] == \"Hip\", \"RoofStyle\"] = \"4\"\n",
        "concat.loc[concat['RoofStyle'] == \"Mansard\", \"RoofStyle\"] = \"5\"\n",
        "concat.loc[concat['RoofStyle'] == \"Shed\", \"RoofStyle\"] = \"6\"\n",
        "\n",
        "# ------------Exterior1st----------------\n",
        "concat.loc[concat['Exterior1st'] == \"AsbShng\", \"Exterior1st\"] = \"1\"\n",
        "concat.loc[concat['Exterior1st'] == \"AsphShn\", \"Exterior1st\"] = \"2\"\n",
        "concat.loc[concat['Exterior1st'] == \"BrkComm\", \"Exterior1st\"] = \"3\"\n",
        "concat.loc[concat['Exterior1st'] == \"BrkFace\", \"Exterior1st\"] = \"4\"\n",
        "concat.loc[concat['Exterior1st'] == \"CBlock\", \"Exterior1st\"] = \"5\"\n",
        "concat.loc[concat['Exterior1st'] == \"CemntBd\", \"Exterior1st\"] = \"6\"\n",
        "concat.loc[concat['Exterior1st'] == \"HdBoard\", \"Exterior1st\"] = \"7\"\n",
        "concat.loc[concat['Exterior1st'] == \"ImStucc\", \"Exterior1st\"] = \"8\"\n",
        "concat.loc[concat['Exterior1st'] == \"MetalSd\", \"Exterior1st\"] = \"9\"\n",
        "concat.loc[concat['Exterior1st'] == \"Other\", \"Exterior1st\"] = \"10\"\n",
        "concat.loc[concat['Exterior1st'] == \"Plywood\", \"Exterior1st\"] = \"11\"\n",
        "concat.loc[concat['Exterior1st'] == \"PreCast\", \"Exterior1st\"] = \"12\"\n",
        "concat.loc[concat['Exterior1st'] == \"Stone\", \"Exterior1st\"] = \"13\"\n",
        "concat.loc[concat['Exterior1st'] == \"Stucco\", \"Exterior1st\"] = \"14\"\n",
        "concat.loc[concat['Exterior1st'] == \"VinylSd\", \"Exterior1st\"] = \"15\"\n",
        "concat.loc[concat['Exterior1st'] == \"Wd Sdng\", \"Exterior1st\"] = \"16\"\n",
        "concat.loc[concat['Exterior1st'] == \"WdShing\", \"Exterior1st\"] = \"17\"\n",
        "\n",
        "# ------------Exterior2nd----------------\n",
        "concat.loc[concat['Exterior2nd'] == \"AsbShng\", \"Exterior2nd\"] = \"1\"\n",
        "concat.loc[concat['Exterior2nd'] == \"AsphShn\", \"Exterior2nd\"] = \"2\"\n",
        "concat.loc[concat['Exterior2nd'] == \"BrkComm\", \"Exterior2nd\"] = \"3\"\n",
        "concat.loc[concat['Exterior2nd'] == \"Brk Cmn\", \"Exterior2nd\"] = \"3\"\n",
        "concat.loc[concat['Exterior2nd'] == \"BrkFace\", \"Exterior2nd\"] = \"4\"\n",
        "concat.loc[concat['Exterior2nd'] == \"CBlock\", \"Exterior2nd\"] = \"5\"\n",
        "concat.loc[concat['Exterior2nd'] == \"CemntBd\", \"Exterior2nd\"] = \"6\"\n",
        "concat.loc[concat['Exterior2nd'] == \"CmentBd\", \"Exterior2nd\"] = \"6\"\n",
        "concat.loc[concat['Exterior2nd'] == \"HdBoard\", \"Exterior2nd\"] = \"7\"\n",
        "concat.loc[concat['Exterior2nd'] == \"ImStucc\", \"Exterior2nd\"] = \"8\"\n",
        "concat.loc[concat['Exterior2nd'] == \"MetalSd\", \"Exterior2nd\"] = \"9\"\n",
        "concat.loc[concat['Exterior2nd'] == \"Other\", \"Exterior2nd\"] = \"10\"\n",
        "concat.loc[concat['Exterior2nd'] == \"Plywood\", \"Exterior2nd\"] = \"11\"\n",
        "concat.loc[concat['Exterior2nd'] == \"PreCast\", \"Exterior2nd\"] = \"12\"\n",
        "concat.loc[concat['Exterior2nd'] == \"Stone\", \"Exterior2nd\"] = \"13\"\n",
        "concat.loc[concat['Exterior2nd'] == \"Stucco\", \"Exterior2nd\"] = \"14\"\n",
        "concat.loc[concat['Exterior2nd'] == \"VinylSd\", \"Exterior2nd\"] = \"15\"\n",
        "concat.loc[concat['Exterior2nd'] == \"Wd Sdng\", \"Exterior2nd\"] = \"16\"\n",
        "concat.loc[concat['Exterior2nd'] == \"Wd Shng\", \"Exterior2nd\"] = \"16\"\n",
        "concat.loc[concat['Exterior2nd'] == \"WdShing\", \"Exterior2nd\"] = \"17\"\n",
        "\n",
        "# ------------MasVnrType----------------\n",
        "concat.loc[concat['MasVnrType'] == \"BrkCmn\", \"MasVnrType\"] = \"1\"\n",
        "concat.loc[concat['MasVnrType'] == \"BrkFace\", \"MasVnrType\"] = \"2\"\n",
        "concat.loc[concat['MasVnrType'] == \"CBlock\", \"MasVnrType\"] = \"3\"\n",
        "concat.loc[concat['MasVnrType'] == \"None\", \"MasVnrType\"] = \"4\"\n",
        "concat.loc[concat['MasVnrType'] == \"Stone\", \"MasVnrType\"] = \"5\"\n",
        "\n",
        "# ------------ExterQual----------------\n",
        "concat.loc[concat['ExterQual'] == \"Ex\", \"ExterQual\"] = \"1\"\n",
        "concat.loc[concat['ExterQual'] == \"Gd\", \"ExterQual\"] = \"2\"\n",
        "concat.loc[concat['ExterQual'] == \"TA\", \"ExterQual\"] = \"3\"\n",
        "concat.loc[concat['ExterQual'] == \"Fa\", \"ExterQual\"] = \"4\"\n",
        "concat.loc[concat['ExterQual'] == \"Po\", \"ExterQual\"] = \"5\"\n",
        "\n",
        "# ------------ExterCond----------------\n",
        "concat.loc[concat['ExterCond'] == \"Ex\", \"ExterCond\"] = \"1\"\n",
        "concat.loc[concat['ExterCond'] == \"Gd\", \"ExterCond\"] = \"2\"\n",
        "concat.loc[concat['ExterCond'] == \"TA\", \"ExterCond\"] = \"3\"\n",
        "concat.loc[concat['ExterCond'] == \"Fa\", \"ExterCond\"] = \"4\"\n",
        "concat.loc[concat['ExterCond'] == \"Po\", \"ExterCond\"] = \"5\"\n",
        "\n",
        "# ------------Foundation----------------\n",
        "concat.loc[concat['Foundation'] == \"BrkTil\", \"Foundation\"] = \"1\"\n",
        "concat.loc[concat['Foundation'] == \"CBlock\", \"Foundation\"] = \"2\"\n",
        "concat.loc[concat['Foundation'] == \"PConc\", \"Foundation\"] = \"3\"\n",
        "concat.loc[concat['Foundation'] == \"Slab\", \"Foundation\"] = \"4\"\n",
        "concat.loc[concat['Foundation'] == \"Stone\", \"Foundation\"] = \"5\"\n",
        "concat.loc[concat['Foundation'] == \"Wood\", \"Foundation\"] = \"6\"\n",
        "\n",
        "# ------------BsmtQual----------------\n",
        "concat.loc[concat['BsmtQual'] == \"Ex\", \"BsmtQual\"] = \"1\"\n",
        "concat.loc[concat['BsmtQual'] == \"Gd\", \"BsmtQual\"] = \"2\"\n",
        "concat.loc[concat['BsmtQual'] == \"TA\", \"BsmtQual\"] = \"3\"\n",
        "concat.loc[concat['BsmtQual'] == \"Fa\", \"BsmtQual\"] = \"4\"\n",
        "concat.loc[concat['BsmtQual'] == \"Po\", \"BsmtQual\"] = \"5\"\n",
        "\n",
        "# ------------BsmtCond----------------\n",
        "concat.loc[concat['BsmtCond'] == \"Ex\", \"BsmtCond\"] = \"1\"\n",
        "concat.loc[concat['BsmtCond'] == \"Gd\", \"BsmtCond\"] = \"2\"\n",
        "concat.loc[concat['BsmtCond'] == \"TA\", \"BsmtCond\"] = \"3\"\n",
        "concat.loc[concat['BsmtCond'] == \"Fa\", \"BsmtCond\"] = \"4\"\n",
        "concat.loc[concat['BsmtCond'] == \"Po\", \"BsmtCond\"] = \"5\"\n",
        "\n",
        "# ------------BsmtExposure----------------\n",
        "concat.loc[concat['BsmtExposure'] == \"Gd\", \"BsmtExposure\"] = \"1\"\n",
        "concat.loc[concat['BsmtExposure'] == \"Av\", \"BsmtExposure\"] = \"2\"\n",
        "concat.loc[concat['BsmtExposure'] == \"Mn\", \"BsmtExposure\"] = \"3\"\n",
        "concat.loc[concat['BsmtExposure'] == \"No\", \"BsmtExposure\"] = \"4\"\n",
        "\n",
        "# ------------BsmtFinType1----------------\n",
        "concat.loc[concat['BsmtFinType1'] == \"GLQ\", \"BsmtFinType1\"] = \"1\"\n",
        "concat.loc[concat['BsmtFinType1'] == \"ALQ\", \"BsmtFinType1\"] = \"2\"\n",
        "concat.loc[concat['BsmtFinType1'] == \"BLQ\", \"BsmtFinType1\"] = \"3\"\n",
        "concat.loc[concat['BsmtFinType1'] == \"Rec\", \"BsmtFinType1\"] = \"4\"\n",
        "concat.loc[concat['BsmtFinType1'] == \"LwQ\", \"BsmtFinType1\"] = \"5\"\n",
        "concat.loc[concat['BsmtFinType1'] == \"Unf\", \"BsmtFinType1\"] = \"6\"\n",
        "\n",
        "# ------------BsmtFinType2----------------\n",
        "concat.loc[concat['BsmtFinType2'] == \"GLQ\", \"BsmtFinType2\"] = \"1\"\n",
        "concat.loc[concat['BsmtFinType2'] == \"ALQ\", \"BsmtFinType2\"] = \"2\"\n",
        "concat.loc[concat['BsmtFinType2'] == \"BLQ\", \"BsmtFinType2\"] = \"3\"\n",
        "concat.loc[concat['BsmtFinType2'] == \"Rec\", \"BsmtFinType2\"] = \"4\"\n",
        "concat.loc[concat['BsmtFinType2'] == \"LwQ\", \"BsmtFinType2\"] = \"5\"\n",
        "concat.loc[concat['BsmtFinType2'] == \"Unf\", \"BsmtFinType2\"] = \"6\"\n",
        "\n",
        "# ------------HeatingQC----------------\n",
        "concat.loc[concat['HeatingQC'] == \"Ex\", \"HeatingQC\"] = \"1\"\n",
        "concat.loc[concat['HeatingQC'] == \"Gd\", \"HeatingQC\"] = \"2\"\n",
        "concat.loc[concat['HeatingQC'] == \"TA\", \"HeatingQC\"] = \"3\"\n",
        "concat.loc[concat['HeatingQC'] == \"Fa\", \"HeatingQC\"] = \"4\"\n",
        "concat.loc[concat['HeatingQC'] == \"Po\", \"HeatingQC\"] = \"5\"\n",
        "\n",
        "# ------------KitchenQual----------------\n",
        "concat.loc[concat['KitchenQual'] == \"Ex\", \"KitchenQual\"] = \"1\"\n",
        "concat.loc[concat['KitchenQual'] == \"Gd\", \"KitchenQual\"] = \"2\"\n",
        "concat.loc[concat['KitchenQual'] == \"TA\", \"KitchenQual\"] = \"3\"\n",
        "concat.loc[concat['KitchenQual'] == \"Fa\", \"KitchenQual\"] = \"4\"\n",
        "concat.loc[concat['KitchenQual'] == \"Po\", \"KitchenQual\"] = \"5\"\n",
        "\n",
        "# ------------Functional----------------\n",
        "concat.loc[concat['Functional'] == \"Typ\", \"Functional\"] = \"1\"\n",
        "concat.loc[concat['Functional'] == \"Min1\", \"Functional\"] = \"2\"\n",
        "concat.loc[concat['Functional'] == \"Min2\", \"Functional\"] = \"3\"\n",
        "concat.loc[concat['Functional'] == \"Mod\", \"Functional\"] = \"4\"\n",
        "concat.loc[concat['Functional'] == \"Maj1\", \"Functional\"] = \"5\"\n",
        "concat.loc[concat['Functional'] == \"Maj2\", \"Functional\"] = \"6\"\n",
        "concat.loc[concat['Functional'] == \"Sev\", \"Functional\"] = \"7\"\n",
        "concat.loc[concat['Functional'] == \"Sal\", \"Functional\"] = \"8\"\n",
        "\n",
        "# ------------FireplaceQu----------------\n",
        "concat.loc[concat['FireplaceQu'] == \"Ex\", \"FireplaceQu\"] = \"1\"\n",
        "concat.loc[concat['FireplaceQu'] == \"Gd\", \"FireplaceQu\"] = \"2\"\n",
        "concat.loc[concat['FireplaceQu'] == \"TA\", \"FireplaceQu\"] = \"3\"\n",
        "concat.loc[concat['FireplaceQu'] == \"Fa\", \"FireplaceQu\"] = \"4\"\n",
        "concat.loc[concat['FireplaceQu'] == \"Po\", \"FireplaceQu\"] = \"5\"\n",
        "\n",
        "# ------------GarageType----------------\n",
        "concat.loc[concat['GarageType'] == \"2Types\", \"GarageType\"] = \"1\"\n",
        "concat.loc[concat['GarageType'] == \"Attchd\", \"GarageType\"] = \"2\"\n",
        "concat.loc[concat['GarageType'] == \"Basment\", \"GarageType\"] = \"3\"\n",
        "concat.loc[concat['GarageType'] == \"BuiltIn\", \"GarageType\"] = \"4\"\n",
        "concat.loc[concat['GarageType'] == \"CarPort\", \"GarageType\"] = \"5\"\n",
        "concat.loc[concat['GarageType'] == \"Detchd\", \"GarageType\"] = \"6\"\n",
        "\n",
        "# ------------GarageFinish----------------\n",
        "concat.loc[concat['GarageFinish'] == \"Fin\", \"GarageFinish\"] = \"1\"\n",
        "concat.loc[concat['GarageFinish'] == \"RFn\", \"GarageFinish\"] = \"2\"\n",
        "concat.loc[concat['GarageFinish'] == \"Unf\", \"GarageFinish\"] = \"3\"\n",
        "\n",
        "# ------------GarageQual----------------\n",
        "concat.loc[concat['GarageQual'] == \"Ex\", \"GarageQual\"] = \"1\"\n",
        "concat.loc[concat['GarageQual'] == \"Gd\", \"GarageQual\"] = \"2\"\n",
        "concat.loc[concat['GarageQual'] == \"TA\", \"GarageQual\"] = \"3\"\n",
        "concat.loc[concat['GarageQual'] == \"Fa\", \"GarageQual\"] = \"4\"\n",
        "concat.loc[concat['GarageQual'] == \"Po\", \"GarageQual\"] = \"5\"\n",
        "\n",
        "# ------------GarageCond----------------\n",
        "concat.loc[concat['GarageCond'] == \"Ex\", \"GarageCond\"] = \"1\"\n",
        "concat.loc[concat['GarageCond'] == \"Gd\", \"GarageCond\"] = \"2\"\n",
        "concat.loc[concat['GarageCond'] == \"TA\", \"GarageCond\"] = \"3\"\n",
        "concat.loc[concat['GarageCond'] == \"Fa\", \"GarageCond\"] = \"4\"\n",
        "concat.loc[concat['GarageCond'] == \"Po\", \"GarageCond\"] = \"5\"\n",
        "\n",
        "# ------------PavedDrive----------------\n",
        "concat.loc[concat['PavedDrive'] == \"Y\", \"PavedDrive\"] = \"1\"\n",
        "concat.loc[concat['PavedDrive'] == \"P\", \"PavedDrive\"] = \"2\"\n",
        "concat.loc[concat['PavedDrive'] == \"N\", \"PavedDrive\"] = \"3\"\n",
        "\n",
        "# ------------Fence----------------\n",
        "concat.loc[concat['Fence'] == \"GdPrv\", \"Fence\"] = \"1\"\n",
        "concat.loc[concat['Fence'] == \"MnPrv\", \"Fence\"] = \"2\"\n",
        "concat.loc[concat['Fence'] == \"GdWo\", \"Fence\"] = \"3\"\n",
        "concat.loc[concat['Fence'] == \"MnWw\", \"Fence\"] = \"4\"\n",
        "\n",
        "# ------------MiscFeature----------------\n",
        "concat.loc[concat['MiscFeature'] == \"Elev\", \"MiscFeature\"] = \"1\"\n",
        "concat.loc[concat['MiscFeature'] == \"Gar2\", \"MiscFeature\"] = \"2\"\n",
        "concat.loc[concat['MiscFeature'] == \"Othr\", \"MiscFeature\"] = \"3\"\n",
        "concat.loc[concat['MiscFeature'] == \"Shed\", \"MiscFeature\"] = \"4\"\n",
        "concat.loc[concat['MiscFeature'] == \"TenC\", \"MiscFeature\"] = \"5\"\n",
        "\n",
        "# ------------SaleType----------------\n",
        "concat.loc[concat['SaleType'] == \"WD\", \"SaleType\"] = \"1\"\n",
        "concat.loc[concat['SaleType'] == \"CWD\", \"SaleType\"] = \"2\"\n",
        "concat.loc[concat['SaleType'] == \"VWD\", \"SaleType\"] = \"3\"\n",
        "concat.loc[concat['SaleType'] == \"New\", \"SaleType\"] = \"4\"\n",
        "concat.loc[concat['SaleType'] == \"COD\", \"SaleType\"] = \"5\"\n",
        "concat.loc[concat['SaleType'] == \"Con\", \"SaleType\"] = \"6\"\n",
        "concat.loc[concat['SaleType'] == \"ConLw\", \"SaleType\"] = \"7\"\n",
        "concat.loc[concat['SaleType'] == \"ConLI\", \"SaleType\"] = \"8\"\n",
        "concat.loc[concat['SaleType'] == \"ConLD\", \"SaleType\"] = \"9\"\n",
        "concat.loc[concat['SaleType'] == \"Oth\", \"SaleType\"] = \"10\"\n",
        "\n",
        "# ------------SaleCondition----------------\n",
        "concat.loc[concat['SaleCondition'] == \"Normal\", \"SaleCondition\"] = \"1\"\n",
        "concat.loc[concat['SaleCondition'] == \"Abnorml\", \"SaleCondition\"] = \"2\"\n",
        "concat.loc[concat['SaleCondition'] == \"AdjLand\", \"SaleCondition\"] = \"3\"\n",
        "concat.loc[concat['SaleCondition'] == \"Alloca\", \"SaleCondition\"] = \"4\"\n",
        "concat.loc[concat['SaleCondition'] == \"Family\", \"SaleCondition\"] = \"5\"\n",
        "concat.loc[concat['SaleCondition'] == \"Partial\", \"SaleCondition\"] = \"6\"\n",
        "\n",
        "concat['MiscFeature'] = concat['MiscFeature'].fillna('0')\n",
        "concat['Fence'] = concat['Fence'].fillna('0')\n",
        "concat['MasVnrType'] = concat['MasVnrType'].fillna('0')\n",
        "concat['FireplaceQu'] = concat['FireplaceQu'].fillna('0')\n",
        "concat['LotFrontage'] = concat['LotFrontage'].mean()\n",
        "concat['LotFrontage'] = concat['LotFrontage'].fillna('0')\n",
        "concat['GarageCond'] = concat['GarageCond'].fillna('0')\n",
        "concat['GarageQual'] = concat['GarageQual'].fillna('0')\n",
        "concat['GarageFinish'] = concat['GarageFinish'].fillna('0')\n",
        "concat['GarageYrBlt'] = concat['GarageYrBlt'].fillna('0')\n",
        "concat['GarageType'] = concat['GarageType'].fillna('0')\n",
        "concat['GarageArea'] = concat['GarageArea'].fillna('0')\n",
        "concat['GarageCars'] = concat['GarageCars'].fillna('0')\n",
        "concat['BsmtExposure'] = concat['BsmtExposure'].fillna('0')\n",
        "concat['BsmtCond'] = concat['BsmtCond'].fillna('0')\n",
        "concat['BsmtQual'] = concat['BsmtQual'].fillna('0')\n",
        "concat['BsmtFinType1'] = concat['BsmtFinType1'].fillna('0')\n",
        "concat['BsmtFinType2'] = concat['BsmtFinType2'].fillna('0')\n",
        "concat['TotalBsmtSF'] = concat['TotalBsmtSF'].fillna('0')\n",
        "concat['BsmtFinSF1'] = concat['BsmtFinSF1'].fillna('0')\n",
        "concat['BsmtFinSF2'] = concat['BsmtFinSF2'].fillna('0')\n",
        "concat['BsmtUnfSF'] = concat['BsmtUnfSF'].fillna('0')\n",
        "concat['MasVnrArea'] = concat['MasVnrArea'].fillna('0')\n",
        "concat['MSZoning'] = concat['MSZoning'].fillna('C (all)')\n",
        "concat['BsmtFullBath'] = concat['BsmtFullBath'].fillna('0')\n",
        "concat['BsmtHalfBath'] = concat['BsmtHalfBath'].fillna('0')\n",
        "concat['Functional'] = concat['Functional'].fillna('1')\n",
        "concat['Exterior1st'] = concat['Exterior1st'].fillna('15')\n",
        "concat['Exterior2nd'] = concat['Exterior2nd'].fillna('15')\n",
        "concat['KitchenQual'] = concat['KitchenQual'].fillna('3')\n",
        "concat['SaleType'] = concat['SaleType'].fillna('1')\n",
        "\n",
        "concat.fillna(0, inplace=True)\n",
        "# all_dummies = pd.get_dummies(concat, dummy_na = True, drop_first = True)\n",
        "\n",
        "df_test_dum = concat.iloc[:1459]\n",
        "df_train_dum = concat.iloc[1459:]"
      ]
    },
    {
      "cell_type": "code",
      "execution_count": 28,
      "metadata": {},
      "outputs": [
        {
          "data": {
            "text/html": [
              "<div>\n",
              "<style scoped>\n",
              "    .dataframe tbody tr th:only-of-type {\n",
              "        vertical-align: middle;\n",
              "    }\n",
              "\n",
              "    .dataframe tbody tr th {\n",
              "        vertical-align: top;\n",
              "    }\n",
              "\n",
              "    .dataframe thead th {\n",
              "        text-align: right;\n",
              "    }\n",
              "</style>\n",
              "<table border=\"1\" class=\"dataframe\">\n",
              "  <thead>\n",
              "    <tr style=\"text-align: right;\">\n",
              "      <th></th>\n",
              "      <th>MSSubClass</th>\n",
              "      <th>MSZoning</th>\n",
              "      <th>LotFrontage</th>\n",
              "      <th>LotArea</th>\n",
              "      <th>LotShape</th>\n",
              "      <th>LandContour</th>\n",
              "      <th>LotConfig</th>\n",
              "      <th>LandSlope</th>\n",
              "      <th>Neighborhood</th>\n",
              "      <th>Condition1</th>\n",
              "      <th>...</th>\n",
              "      <th>EnclosedPorch</th>\n",
              "      <th>3SsnPorch</th>\n",
              "      <th>ScreenPorch</th>\n",
              "      <th>Fence</th>\n",
              "      <th>MiscFeature</th>\n",
              "      <th>MoSold</th>\n",
              "      <th>YrSold</th>\n",
              "      <th>SaleType</th>\n",
              "      <th>SaleCondition</th>\n",
              "      <th>SalePrice</th>\n",
              "    </tr>\n",
              "  </thead>\n",
              "  <tbody>\n",
              "    <tr>\n",
              "      <th>0</th>\n",
              "      <td>20</td>\n",
              "      <td>5</td>\n",
              "      <td>69.305795</td>\n",
              "      <td>11622</td>\n",
              "      <td>1</td>\n",
              "      <td>1</td>\n",
              "      <td>1</td>\n",
              "      <td>1</td>\n",
              "      <td>13</td>\n",
              "      <td>2</td>\n",
              "      <td>...</td>\n",
              "      <td>0</td>\n",
              "      <td>0</td>\n",
              "      <td>120</td>\n",
              "      <td>2</td>\n",
              "      <td>0</td>\n",
              "      <td>6</td>\n",
              "      <td>2010</td>\n",
              "      <td>1</td>\n",
              "      <td>1</td>\n",
              "      <td>0.0</td>\n",
              "    </tr>\n",
              "    <tr>\n",
              "      <th>1</th>\n",
              "      <td>20</td>\n",
              "      <td>6</td>\n",
              "      <td>69.305795</td>\n",
              "      <td>14267</td>\n",
              "      <td>2</td>\n",
              "      <td>1</td>\n",
              "      <td>2</td>\n",
              "      <td>1</td>\n",
              "      <td>13</td>\n",
              "      <td>3</td>\n",
              "      <td>...</td>\n",
              "      <td>0</td>\n",
              "      <td>0</td>\n",
              "      <td>0</td>\n",
              "      <td>0</td>\n",
              "      <td>2</td>\n",
              "      <td>6</td>\n",
              "      <td>2010</td>\n",
              "      <td>1</td>\n",
              "      <td>1</td>\n",
              "      <td>0.0</td>\n",
              "    </tr>\n",
              "    <tr>\n",
              "      <th>2</th>\n",
              "      <td>60</td>\n",
              "      <td>6</td>\n",
              "      <td>69.305795</td>\n",
              "      <td>13830</td>\n",
              "      <td>2</td>\n",
              "      <td>1</td>\n",
              "      <td>1</td>\n",
              "      <td>1</td>\n",
              "      <td>9</td>\n",
              "      <td>3</td>\n",
              "      <td>...</td>\n",
              "      <td>0</td>\n",
              "      <td>0</td>\n",
              "      <td>0</td>\n",
              "      <td>2</td>\n",
              "      <td>0</td>\n",
              "      <td>3</td>\n",
              "      <td>2010</td>\n",
              "      <td>1</td>\n",
              "      <td>1</td>\n",
              "      <td>0.0</td>\n",
              "    </tr>\n",
              "    <tr>\n",
              "      <th>3</th>\n",
              "      <td>60</td>\n",
              "      <td>6</td>\n",
              "      <td>69.305795</td>\n",
              "      <td>9978</td>\n",
              "      <td>2</td>\n",
              "      <td>1</td>\n",
              "      <td>1</td>\n",
              "      <td>1</td>\n",
              "      <td>9</td>\n",
              "      <td>3</td>\n",
              "      <td>...</td>\n",
              "      <td>0</td>\n",
              "      <td>0</td>\n",
              "      <td>0</td>\n",
              "      <td>0</td>\n",
              "      <td>0</td>\n",
              "      <td>6</td>\n",
              "      <td>2010</td>\n",
              "      <td>1</td>\n",
              "      <td>1</td>\n",
              "      <td>0.0</td>\n",
              "    </tr>\n",
              "    <tr>\n",
              "      <th>4</th>\n",
              "      <td>120</td>\n",
              "      <td>6</td>\n",
              "      <td>69.305795</td>\n",
              "      <td>5005</td>\n",
              "      <td>2</td>\n",
              "      <td>3</td>\n",
              "      <td>1</td>\n",
              "      <td>1</td>\n",
              "      <td>23</td>\n",
              "      <td>3</td>\n",
              "      <td>...</td>\n",
              "      <td>0</td>\n",
              "      <td>0</td>\n",
              "      <td>144</td>\n",
              "      <td>0</td>\n",
              "      <td>0</td>\n",
              "      <td>1</td>\n",
              "      <td>2010</td>\n",
              "      <td>1</td>\n",
              "      <td>1</td>\n",
              "      <td>0.0</td>\n",
              "    </tr>\n",
              "  </tbody>\n",
              "</table>\n",
              "<p>5 rows × 67 columns</p>\n",
              "</div>"
            ],
            "text/plain": [
              "  MSSubClass MSZoning  LotFrontage  LotArea LotShape LandContour LotConfig  \\\n",
              "0         20        5    69.305795    11622        1           1         1   \n",
              "1         20        6    69.305795    14267        2           1         2   \n",
              "2         60        6    69.305795    13830        2           1         1   \n",
              "3         60        6    69.305795     9978        2           1         1   \n",
              "4        120        6    69.305795     5005        2           3         1   \n",
              "\n",
              "  LandSlope Neighborhood Condition1  ... EnclosedPorch 3SsnPorch  ScreenPorch  \\\n",
              "0         1           13          2  ...             0         0          120   \n",
              "1         1           13          3  ...             0         0            0   \n",
              "2         1            9          3  ...             0         0            0   \n",
              "3         1            9          3  ...             0         0            0   \n",
              "4         1           23          3  ...             0         0          144   \n",
              "\n",
              "   Fence  MiscFeature  MoSold YrSold SaleType SaleCondition SalePrice  \n",
              "0      2            0       6   2010        1             1       0.0  \n",
              "1      0            2       6   2010        1             1       0.0  \n",
              "2      2            0       3   2010        1             1       0.0  \n",
              "3      0            0       6   2010        1             1       0.0  \n",
              "4      0            0       1   2010        1             1       0.0  \n",
              "\n",
              "[5 rows x 67 columns]"
            ]
          },
          "execution_count": 28,
          "metadata": {},
          "output_type": "execute_result"
        }
      ],
      "source": [
        "concat.head()"
      ]
    },
    {
      "cell_type": "code",
      "execution_count": 29,
      "metadata": {
        "colab": {
          "base_uri": "https://localhost:8080/"
        },
        "id": "6gmKpqYzTiuD",
        "outputId": "63d2d198-ae1f-426a-88e1-de03a5160880"
      },
      "outputs": [
        {
          "data": {
            "text/plain": [
              "(1459, 67)"
            ]
          },
          "execution_count": 29,
          "metadata": {},
          "output_type": "execute_result"
        }
      ],
      "source": [
        "df_test_dum.shape"
      ]
    },
    {
      "cell_type": "code",
      "execution_count": 30,
      "metadata": {
        "colab": {
          "base_uri": "https://localhost:8080/"
        },
        "id": "t_keHGgYTmt3",
        "outputId": "cf8c8e03-16ff-4ba4-b4be-c9063f3265a1"
      },
      "outputs": [
        {
          "data": {
            "text/plain": [
              "(1460, 67)"
            ]
          },
          "execution_count": 30,
          "metadata": {},
          "output_type": "execute_result"
        }
      ],
      "source": [
        "df_train_dum.shape"
      ]
    },
    {
      "cell_type": "code",
      "execution_count": null,
      "metadata": {
        "id": "hJ3bmRGFaPyr"
      },
      "outputs": [],
      "source": [
        "#correlation matrix\n",
        "corrmat = df_train_dum.corr()\n",
        "f, ax = plt.subplots(figsize=(250, 125))\n",
        "sns.heatmap(corrmat, vmax=.8, square=True, annot=True)"
      ]
    },
    {
      "cell_type": "code",
      "execution_count": 31,
      "metadata": {
        "id": "Y-uwLo9DCCbU"
      },
      "outputs": [],
      "source": [
        "X_tst = df_test_dum\n",
        "X_tst = X_tst.drop(['SalePrice'], axis=1)\n",
        "X_trn = df_train_dum\n",
        "X_trn = X_trn.drop(['SalePrice'], axis=1)\n",
        "\n",
        "X_train, X_test, y_train, y_test = train_test_split(X_trn, y, test_size=0.1, random_state=42)\n",
        "X_train, X_val, y_train, y_val = train_test_split(X_train, y_train, test_size=0.11, random_state=1)"
      ]
    },
    {
      "cell_type": "code",
      "execution_count": null,
      "metadata": {},
      "outputs": [],
      "source": [
        "corrmat = df_train_dum.corr()\n",
        "corr_saleprice = corrmat['SalePrice']\n",
        "f, ax = plt.subplots(figsize=(400,200))\n",
        "sns.heatmap(corr_saleprice.to_frame(), vmax=.8, square=True, annot=True)"
      ]
    },
    {
      "cell_type": "code",
      "execution_count": 7,
      "metadata": {
        "colab": {
          "base_uri": "https://localhost:8080/"
        },
        "id": "tFlR2zLBjhdw",
        "outputId": "a49191cf-5d0e-437e-e8e8-b5e56d19ff28"
      },
      "outputs": [
        {
          "data": {
            "text/plain": [
              "(1459, 289)"
            ]
          },
          "execution_count": 7,
          "metadata": {},
          "output_type": "execute_result"
        }
      ],
      "source": [
        "X_tst.shape"
      ]
    },
    {
      "cell_type": "code",
      "execution_count": 8,
      "metadata": {
        "colab": {
          "base_uri": "https://localhost:8080/"
        },
        "id": "wBnZLSeclrrv",
        "outputId": "dba56556-aac8-41d8-c536-316cc6be3f3f"
      },
      "outputs": [
        {
          "data": {
            "text/plain": [
              "(1460, 289)"
            ]
          },
          "execution_count": 8,
          "metadata": {},
          "output_type": "execute_result"
        }
      ],
      "source": [
        "X_trn.shape"
      ]
    },
    {
      "cell_type": "code",
      "execution_count": null,
      "metadata": {
        "id": "imfcOsn5kjHc"
      },
      "outputs": [],
      "source": [
        "X_trn.isnull().sum().sort_values(ascending = False)[0:20]"
      ]
    },
    {
      "cell_type": "code",
      "execution_count": 10,
      "metadata": {
        "colab": {
          "base_uri": "https://localhost:8080/"
        },
        "id": "PDx4R7hvaMXj",
        "outputId": "33bad945-ab3f-4331-d397-d285268851f1"
      },
      "outputs": [
        {
          "data": {
            "text/plain": [
              "set()"
            ]
          },
          "execution_count": 10,
          "metadata": {},
          "output_type": "execute_result"
        }
      ],
      "source": [
        "set(X_trn.columns).difference(X_tst.columns)"
      ]
    },
    {
      "cell_type": "code",
      "execution_count": 11,
      "metadata": {
        "colab": {
          "base_uri": "https://localhost:8080/"
        },
        "id": "HWmYkIM6aUD_",
        "outputId": "b173eea4-e314-4858-8e1f-9a47d62e5f83"
      },
      "outputs": [
        {
          "data": {
            "text/plain": [
              "set"
            ]
          },
          "execution_count": 11,
          "metadata": {},
          "output_type": "execute_result"
        }
      ],
      "source": [
        "type(set(X_tst.columns).difference(X_trn.columns))"
      ]
    },
    {
      "cell_type": "code",
      "execution_count": 32,
      "metadata": {
        "colab": {
          "base_uri": "https://localhost:8080/"
        },
        "id": "N3Lb8hOGLWPp",
        "outputId": "46c55339-5ce8-422a-9016-60113ed7693b"
      },
      "outputs": [
        {
          "name": "stdout",
          "output_type": "stream",
          "text": [
            "(1460, 66) (1460,)\n",
            "(1169, 66) (1169,)\n",
            "(145, 66) (145,)\n",
            "(146, 66) (146,)\n"
          ]
        }
      ],
      "source": [
        "print(X_trn.shape, y.shape)\n",
        "print(X_train.shape, y_train.shape)\n",
        "print(X_val.shape, y_val.shape)\n",
        "print(X_test.shape, y_test.shape)"
      ]
    },
    {
      "cell_type": "code",
      "execution_count": 38,
      "metadata": {
        "colab": {
          "base_uri": "https://localhost:8080/",
          "height": 75
        },
        "id": "CUYStLdsFLnY",
        "outputId": "14cdc521-4221-446c-e4bf-965c31e40525"
      },
      "outputs": [
        {
          "data": {
            "text/html": [
              "<style>#sk-container-id-3 {color: black;background-color: white;}#sk-container-id-3 pre{padding: 0;}#sk-container-id-3 div.sk-toggleable {background-color: white;}#sk-container-id-3 label.sk-toggleable__label {cursor: pointer;display: block;width: 100%;margin-bottom: 0;padding: 0.3em;box-sizing: border-box;text-align: center;}#sk-container-id-3 label.sk-toggleable__label-arrow:before {content: \"▸\";float: left;margin-right: 0.25em;color: #696969;}#sk-container-id-3 label.sk-toggleable__label-arrow:hover:before {color: black;}#sk-container-id-3 div.sk-estimator:hover label.sk-toggleable__label-arrow:before {color: black;}#sk-container-id-3 div.sk-toggleable__content {max-height: 0;max-width: 0;overflow: hidden;text-align: left;background-color: #f0f8ff;}#sk-container-id-3 div.sk-toggleable__content pre {margin: 0.2em;color: black;border-radius: 0.25em;background-color: #f0f8ff;}#sk-container-id-3 input.sk-toggleable__control:checked~div.sk-toggleable__content {max-height: 200px;max-width: 100%;overflow: auto;}#sk-container-id-3 input.sk-toggleable__control:checked~label.sk-toggleable__label-arrow:before {content: \"▾\";}#sk-container-id-3 div.sk-estimator input.sk-toggleable__control:checked~label.sk-toggleable__label {background-color: #d4ebff;}#sk-container-id-3 div.sk-label input.sk-toggleable__control:checked~label.sk-toggleable__label {background-color: #d4ebff;}#sk-container-id-3 input.sk-hidden--visually {border: 0;clip: rect(1px 1px 1px 1px);clip: rect(1px, 1px, 1px, 1px);height: 1px;margin: -1px;overflow: hidden;padding: 0;position: absolute;width: 1px;}#sk-container-id-3 div.sk-estimator {font-family: monospace;background-color: #f0f8ff;border: 1px dotted black;border-radius: 0.25em;box-sizing: border-box;margin-bottom: 0.5em;}#sk-container-id-3 div.sk-estimator:hover {background-color: #d4ebff;}#sk-container-id-3 div.sk-parallel-item::after {content: \"\";width: 100%;border-bottom: 1px solid gray;flex-grow: 1;}#sk-container-id-3 div.sk-label:hover label.sk-toggleable__label {background-color: #d4ebff;}#sk-container-id-3 div.sk-serial::before {content: \"\";position: absolute;border-left: 1px solid gray;box-sizing: border-box;top: 0;bottom: 0;left: 50%;z-index: 0;}#sk-container-id-3 div.sk-serial {display: flex;flex-direction: column;align-items: center;background-color: white;padding-right: 0.2em;padding-left: 0.2em;position: relative;}#sk-container-id-3 div.sk-item {position: relative;z-index: 1;}#sk-container-id-3 div.sk-parallel {display: flex;align-items: stretch;justify-content: center;background-color: white;position: relative;}#sk-container-id-3 div.sk-item::before, #sk-container-id-3 div.sk-parallel-item::before {content: \"\";position: absolute;border-left: 1px solid gray;box-sizing: border-box;top: 0;bottom: 0;left: 50%;z-index: -1;}#sk-container-id-3 div.sk-parallel-item {display: flex;flex-direction: column;z-index: 1;position: relative;background-color: white;}#sk-container-id-3 div.sk-parallel-item:first-child::after {align-self: flex-end;width: 50%;}#sk-container-id-3 div.sk-parallel-item:last-child::after {align-self: flex-start;width: 50%;}#sk-container-id-3 div.sk-parallel-item:only-child::after {width: 0;}#sk-container-id-3 div.sk-dashed-wrapped {border: 1px dashed gray;margin: 0 0.4em 0.5em 0.4em;box-sizing: border-box;padding-bottom: 0.4em;background-color: white;}#sk-container-id-3 div.sk-label label {font-family: monospace;font-weight: bold;display: inline-block;line-height: 1.2em;}#sk-container-id-3 div.sk-label-container {text-align: center;}#sk-container-id-3 div.sk-container {/* jupyter's `normalize.less` sets `[hidden] { display: none; }` but bootstrap.min.css set `[hidden] { display: none !important; }` so we also need the `!important` here to be able to override the default hidden behavior on the sphinx rendered scikit-learn.org. See: https://github.com/scikit-learn/scikit-learn/issues/21755 */display: inline-block !important;position: relative;}#sk-container-id-3 div.sk-text-repr-fallback {display: none;}</style><div id=\"sk-container-id-3\" class=\"sk-top-container\"><div class=\"sk-text-repr-fallback\"><pre>DecisionTreeRegressor(max_depth=15, min_samples_split=54)</pre><b>In a Jupyter environment, please rerun this cell to show the HTML representation or trust the notebook. <br />On GitHub, the HTML representation is unable to render, please try loading this page with nbviewer.org.</b></div><div class=\"sk-container\" hidden><div class=\"sk-item\"><div class=\"sk-estimator sk-toggleable\"><input class=\"sk-toggleable__control sk-hidden--visually\" id=\"sk-estimator-id-3\" type=\"checkbox\" checked><label for=\"sk-estimator-id-3\" class=\"sk-toggleable__label sk-toggleable__label-arrow\">DecisionTreeRegressor</label><div class=\"sk-toggleable__content\"><pre>DecisionTreeRegressor(max_depth=15, min_samples_split=54)</pre></div></div></div></div></div>"
            ],
            "text/plain": [
              "DecisionTreeRegressor(max_depth=15, min_samples_split=54)"
            ]
          },
          "execution_count": 38,
          "metadata": {},
          "output_type": "execute_result"
        }
      ],
      "source": [
        "m_tree = DecisionTreeRegressor(max_depth=15, min_samples_split=54)\n",
        "m_tree.fit(X_train,y_train)"
      ]
    },
    {
      "cell_type": "code",
      "execution_count": 39,
      "metadata": {
        "id": "WHXlYBfXLibw"
      },
      "outputs": [],
      "source": [
        "y_pred = m_tree.predict(X_val)"
      ]
    },
    {
      "cell_type": "code",
      "execution_count": 40,
      "metadata": {
        "colab": {
          "base_uri": "https://localhost:8080/"
        },
        "id": "E7CotLZyMNt1",
        "outputId": "1744ee24-0633-43b2-8977-a25c244caec1"
      },
      "outputs": [
        {
          "data": {
            "text/plain": [
              "0.19299475600793187"
            ]
          },
          "execution_count": 40,
          "metadata": {},
          "output_type": "execute_result"
        }
      ],
      "source": [
        "mean_squared_error(np.log(np.where(y_pred<0, np.mean(y_train), y_pred)), np.log(y_val), squared = False)\n",
        "#mean_squared_error(np.log(y_pred), np.log(y_val), squared = False)"
      ]
    },
    {
      "cell_type": "code",
      "execution_count": 41,
      "metadata": {
        "colab": {
          "base_uri": "https://localhost:8080/",
          "height": 75
        },
        "id": "dpTvA-s6OLyl",
        "outputId": "f78991b8-6988-47a3-ace5-945c85856d30"
      },
      "outputs": [
        {
          "data": {
            "text/html": [
              "<style>#sk-container-id-4 {color: black;background-color: white;}#sk-container-id-4 pre{padding: 0;}#sk-container-id-4 div.sk-toggleable {background-color: white;}#sk-container-id-4 label.sk-toggleable__label {cursor: pointer;display: block;width: 100%;margin-bottom: 0;padding: 0.3em;box-sizing: border-box;text-align: center;}#sk-container-id-4 label.sk-toggleable__label-arrow:before {content: \"▸\";float: left;margin-right: 0.25em;color: #696969;}#sk-container-id-4 label.sk-toggleable__label-arrow:hover:before {color: black;}#sk-container-id-4 div.sk-estimator:hover label.sk-toggleable__label-arrow:before {color: black;}#sk-container-id-4 div.sk-toggleable__content {max-height: 0;max-width: 0;overflow: hidden;text-align: left;background-color: #f0f8ff;}#sk-container-id-4 div.sk-toggleable__content pre {margin: 0.2em;color: black;border-radius: 0.25em;background-color: #f0f8ff;}#sk-container-id-4 input.sk-toggleable__control:checked~div.sk-toggleable__content {max-height: 200px;max-width: 100%;overflow: auto;}#sk-container-id-4 input.sk-toggleable__control:checked~label.sk-toggleable__label-arrow:before {content: \"▾\";}#sk-container-id-4 div.sk-estimator input.sk-toggleable__control:checked~label.sk-toggleable__label {background-color: #d4ebff;}#sk-container-id-4 div.sk-label input.sk-toggleable__control:checked~label.sk-toggleable__label {background-color: #d4ebff;}#sk-container-id-4 input.sk-hidden--visually {border: 0;clip: rect(1px 1px 1px 1px);clip: rect(1px, 1px, 1px, 1px);height: 1px;margin: -1px;overflow: hidden;padding: 0;position: absolute;width: 1px;}#sk-container-id-4 div.sk-estimator {font-family: monospace;background-color: #f0f8ff;border: 1px dotted black;border-radius: 0.25em;box-sizing: border-box;margin-bottom: 0.5em;}#sk-container-id-4 div.sk-estimator:hover {background-color: #d4ebff;}#sk-container-id-4 div.sk-parallel-item::after {content: \"\";width: 100%;border-bottom: 1px solid gray;flex-grow: 1;}#sk-container-id-4 div.sk-label:hover label.sk-toggleable__label {background-color: #d4ebff;}#sk-container-id-4 div.sk-serial::before {content: \"\";position: absolute;border-left: 1px solid gray;box-sizing: border-box;top: 0;bottom: 0;left: 50%;z-index: 0;}#sk-container-id-4 div.sk-serial {display: flex;flex-direction: column;align-items: center;background-color: white;padding-right: 0.2em;padding-left: 0.2em;position: relative;}#sk-container-id-4 div.sk-item {position: relative;z-index: 1;}#sk-container-id-4 div.sk-parallel {display: flex;align-items: stretch;justify-content: center;background-color: white;position: relative;}#sk-container-id-4 div.sk-item::before, #sk-container-id-4 div.sk-parallel-item::before {content: \"\";position: absolute;border-left: 1px solid gray;box-sizing: border-box;top: 0;bottom: 0;left: 50%;z-index: -1;}#sk-container-id-4 div.sk-parallel-item {display: flex;flex-direction: column;z-index: 1;position: relative;background-color: white;}#sk-container-id-4 div.sk-parallel-item:first-child::after {align-self: flex-end;width: 50%;}#sk-container-id-4 div.sk-parallel-item:last-child::after {align-self: flex-start;width: 50%;}#sk-container-id-4 div.sk-parallel-item:only-child::after {width: 0;}#sk-container-id-4 div.sk-dashed-wrapped {border: 1px dashed gray;margin: 0 0.4em 0.5em 0.4em;box-sizing: border-box;padding-bottom: 0.4em;background-color: white;}#sk-container-id-4 div.sk-label label {font-family: monospace;font-weight: bold;display: inline-block;line-height: 1.2em;}#sk-container-id-4 div.sk-label-container {text-align: center;}#sk-container-id-4 div.sk-container {/* jupyter's `normalize.less` sets `[hidden] { display: none; }` but bootstrap.min.css set `[hidden] { display: none !important; }` so we also need the `!important` here to be able to override the default hidden behavior on the sphinx rendered scikit-learn.org. See: https://github.com/scikit-learn/scikit-learn/issues/21755 */display: inline-block !important;position: relative;}#sk-container-id-4 div.sk-text-repr-fallback {display: none;}</style><div id=\"sk-container-id-4\" class=\"sk-top-container\"><div class=\"sk-text-repr-fallback\"><pre>LinearRegression()</pre><b>In a Jupyter environment, please rerun this cell to show the HTML representation or trust the notebook. <br />On GitHub, the HTML representation is unable to render, please try loading this page with nbviewer.org.</b></div><div class=\"sk-container\" hidden><div class=\"sk-item\"><div class=\"sk-estimator sk-toggleable\"><input class=\"sk-toggleable__control sk-hidden--visually\" id=\"sk-estimator-id-4\" type=\"checkbox\" checked><label for=\"sk-estimator-id-4\" class=\"sk-toggleable__label sk-toggleable__label-arrow\">LinearRegression</label><div class=\"sk-toggleable__content\"><pre>LinearRegression()</pre></div></div></div></div></div>"
            ],
            "text/plain": [
              "LinearRegression()"
            ]
          },
          "execution_count": 41,
          "metadata": {},
          "output_type": "execute_result"
        }
      ],
      "source": [
        "m_lr = LinearRegression()\n",
        "m_lr.fit(X_train,y_train)"
      ]
    },
    {
      "cell_type": "code",
      "execution_count": 42,
      "metadata": {
        "id": "6NQyLME1OaA1"
      },
      "outputs": [],
      "source": [
        "y_pred_lr = m_lr.predict(X_val)"
      ]
    },
    {
      "cell_type": "code",
      "execution_count": 43,
      "metadata": {
        "colab": {
          "base_uri": "https://localhost:8080/"
        },
        "id": "PSjYXjCIOjYu",
        "outputId": "dd4af29e-ef56-44f4-a5d3-01adf20d5eef"
      },
      "outputs": [
        {
          "name": "stdout",
          "output_type": "stream",
          "text": [
            "0.18387038313499873\n",
            "0.8701146432466028\n"
          ]
        }
      ],
      "source": [
        "print(mean_squared_error(np.log(np.where(y_pred_lr<0, np.mean(y_train), y_pred_lr)), np.log(y_val), squared = False))\n",
        "\n",
        "score = m_lr.score(X_train, y_train)\n",
        "print(score)\n"
      ]
    },
    {
      "cell_type": "code",
      "execution_count": 40,
      "metadata": {
        "colab": {
          "base_uri": "https://localhost:8080/",
          "height": 75
        },
        "id": "6mqIlqxH8hiy",
        "outputId": "63189964-02d7-424b-8174-ed261be2b109"
      },
      "outputs": [
        {
          "data": {
            "text/html": [
              "<style>#sk-container-id-6 {color: black;background-color: white;}#sk-container-id-6 pre{padding: 0;}#sk-container-id-6 div.sk-toggleable {background-color: white;}#sk-container-id-6 label.sk-toggleable__label {cursor: pointer;display: block;width: 100%;margin-bottom: 0;padding: 0.3em;box-sizing: border-box;text-align: center;}#sk-container-id-6 label.sk-toggleable__label-arrow:before {content: \"▸\";float: left;margin-right: 0.25em;color: #696969;}#sk-container-id-6 label.sk-toggleable__label-arrow:hover:before {color: black;}#sk-container-id-6 div.sk-estimator:hover label.sk-toggleable__label-arrow:before {color: black;}#sk-container-id-6 div.sk-toggleable__content {max-height: 0;max-width: 0;overflow: hidden;text-align: left;background-color: #f0f8ff;}#sk-container-id-6 div.sk-toggleable__content pre {margin: 0.2em;color: black;border-radius: 0.25em;background-color: #f0f8ff;}#sk-container-id-6 input.sk-toggleable__control:checked~div.sk-toggleable__content {max-height: 200px;max-width: 100%;overflow: auto;}#sk-container-id-6 input.sk-toggleable__control:checked~label.sk-toggleable__label-arrow:before {content: \"▾\";}#sk-container-id-6 div.sk-estimator input.sk-toggleable__control:checked~label.sk-toggleable__label {background-color: #d4ebff;}#sk-container-id-6 div.sk-label input.sk-toggleable__control:checked~label.sk-toggleable__label {background-color: #d4ebff;}#sk-container-id-6 input.sk-hidden--visually {border: 0;clip: rect(1px 1px 1px 1px);clip: rect(1px, 1px, 1px, 1px);height: 1px;margin: -1px;overflow: hidden;padding: 0;position: absolute;width: 1px;}#sk-container-id-6 div.sk-estimator {font-family: monospace;background-color: #f0f8ff;border: 1px dotted black;border-radius: 0.25em;box-sizing: border-box;margin-bottom: 0.5em;}#sk-container-id-6 div.sk-estimator:hover {background-color: #d4ebff;}#sk-container-id-6 div.sk-parallel-item::after {content: \"\";width: 100%;border-bottom: 1px solid gray;flex-grow: 1;}#sk-container-id-6 div.sk-label:hover label.sk-toggleable__label {background-color: #d4ebff;}#sk-container-id-6 div.sk-serial::before {content: \"\";position: absolute;border-left: 1px solid gray;box-sizing: border-box;top: 0;bottom: 0;left: 50%;z-index: 0;}#sk-container-id-6 div.sk-serial {display: flex;flex-direction: column;align-items: center;background-color: white;padding-right: 0.2em;padding-left: 0.2em;position: relative;}#sk-container-id-6 div.sk-item {position: relative;z-index: 1;}#sk-container-id-6 div.sk-parallel {display: flex;align-items: stretch;justify-content: center;background-color: white;position: relative;}#sk-container-id-6 div.sk-item::before, #sk-container-id-6 div.sk-parallel-item::before {content: \"\";position: absolute;border-left: 1px solid gray;box-sizing: border-box;top: 0;bottom: 0;left: 50%;z-index: -1;}#sk-container-id-6 div.sk-parallel-item {display: flex;flex-direction: column;z-index: 1;position: relative;background-color: white;}#sk-container-id-6 div.sk-parallel-item:first-child::after {align-self: flex-end;width: 50%;}#sk-container-id-6 div.sk-parallel-item:last-child::after {align-self: flex-start;width: 50%;}#sk-container-id-6 div.sk-parallel-item:only-child::after {width: 0;}#sk-container-id-6 div.sk-dashed-wrapped {border: 1px dashed gray;margin: 0 0.4em 0.5em 0.4em;box-sizing: border-box;padding-bottom: 0.4em;background-color: white;}#sk-container-id-6 div.sk-label label {font-family: monospace;font-weight: bold;display: inline-block;line-height: 1.2em;}#sk-container-id-6 div.sk-label-container {text-align: center;}#sk-container-id-6 div.sk-container {/* jupyter's `normalize.less` sets `[hidden] { display: none; }` but bootstrap.min.css set `[hidden] { display: none !important; }` so we also need the `!important` here to be able to override the default hidden behavior on the sphinx rendered scikit-learn.org. See: https://github.com/scikit-learn/scikit-learn/issues/21755 */display: inline-block !important;position: relative;}#sk-container-id-6 div.sk-text-repr-fallback {display: none;}</style><div id=\"sk-container-id-6\" class=\"sk-top-container\"><div class=\"sk-text-repr-fallback\"><pre>Ridge(alpha=0.1)</pre><b>In a Jupyter environment, please rerun this cell to show the HTML representation or trust the notebook. <br />On GitHub, the HTML representation is unable to render, please try loading this page with nbviewer.org.</b></div><div class=\"sk-container\" hidden><div class=\"sk-item\"><div class=\"sk-estimator sk-toggleable\"><input class=\"sk-toggleable__control sk-hidden--visually\" id=\"sk-estimator-id-6\" type=\"checkbox\" checked><label for=\"sk-estimator-id-6\" class=\"sk-toggleable__label sk-toggleable__label-arrow\">Ridge</label><div class=\"sk-toggleable__content\"><pre>Ridge(alpha=0.1)</pre></div></div></div></div></div>"
            ],
            "text/plain": [
              "Ridge(alpha=0.1)"
            ]
          },
          "execution_count": 40,
          "metadata": {},
          "output_type": "execute_result"
        }
      ],
      "source": [
        "m_Ridge = Ridge(alpha=0.1)\n",
        "m_Ridge.fit(X_train,y_train)"
      ]
    },
    {
      "cell_type": "code",
      "execution_count": 41,
      "metadata": {
        "id": "KV4CgkSuBM-C"
      },
      "outputs": [],
      "source": [
        "y_pred_Ridge = m_Ridge.predict(X_val)"
      ]
    },
    {
      "cell_type": "code",
      "execution_count": 42,
      "metadata": {
        "colab": {
          "base_uri": "https://localhost:8080/"
        },
        "id": "2SATxrnvBR3L",
        "outputId": "28d6cffc-d427-4ea1-b7e1-9f0bf7174001"
      },
      "outputs": [
        {
          "data": {
            "text/plain": [
              "0.18557049844356058"
            ]
          },
          "execution_count": 42,
          "metadata": {},
          "output_type": "execute_result"
        }
      ],
      "source": [
        "mean_squared_error(np.log(np.where(y_pred_Ridge<0, np.mean(y_train), y_pred_Ridge)), np.log(y_val), squared = False)"
      ]
    },
    {
      "cell_type": "code",
      "execution_count": 43,
      "metadata": {
        "colab": {
          "base_uri": "https://localhost:8080/",
          "height": 75
        },
        "id": "1rWj3jgQC3YB",
        "outputId": "9edda138-485d-4010-b162-2981d736f366"
      },
      "outputs": [
        {
          "data": {
            "text/html": [
              "<style>#sk-container-id-7 {color: black;background-color: white;}#sk-container-id-7 pre{padding: 0;}#sk-container-id-7 div.sk-toggleable {background-color: white;}#sk-container-id-7 label.sk-toggleable__label {cursor: pointer;display: block;width: 100%;margin-bottom: 0;padding: 0.3em;box-sizing: border-box;text-align: center;}#sk-container-id-7 label.sk-toggleable__label-arrow:before {content: \"▸\";float: left;margin-right: 0.25em;color: #696969;}#sk-container-id-7 label.sk-toggleable__label-arrow:hover:before {color: black;}#sk-container-id-7 div.sk-estimator:hover label.sk-toggleable__label-arrow:before {color: black;}#sk-container-id-7 div.sk-toggleable__content {max-height: 0;max-width: 0;overflow: hidden;text-align: left;background-color: #f0f8ff;}#sk-container-id-7 div.sk-toggleable__content pre {margin: 0.2em;color: black;border-radius: 0.25em;background-color: #f0f8ff;}#sk-container-id-7 input.sk-toggleable__control:checked~div.sk-toggleable__content {max-height: 200px;max-width: 100%;overflow: auto;}#sk-container-id-7 input.sk-toggleable__control:checked~label.sk-toggleable__label-arrow:before {content: \"▾\";}#sk-container-id-7 div.sk-estimator input.sk-toggleable__control:checked~label.sk-toggleable__label {background-color: #d4ebff;}#sk-container-id-7 div.sk-label input.sk-toggleable__control:checked~label.sk-toggleable__label {background-color: #d4ebff;}#sk-container-id-7 input.sk-hidden--visually {border: 0;clip: rect(1px 1px 1px 1px);clip: rect(1px, 1px, 1px, 1px);height: 1px;margin: -1px;overflow: hidden;padding: 0;position: absolute;width: 1px;}#sk-container-id-7 div.sk-estimator {font-family: monospace;background-color: #f0f8ff;border: 1px dotted black;border-radius: 0.25em;box-sizing: border-box;margin-bottom: 0.5em;}#sk-container-id-7 div.sk-estimator:hover {background-color: #d4ebff;}#sk-container-id-7 div.sk-parallel-item::after {content: \"\";width: 100%;border-bottom: 1px solid gray;flex-grow: 1;}#sk-container-id-7 div.sk-label:hover label.sk-toggleable__label {background-color: #d4ebff;}#sk-container-id-7 div.sk-serial::before {content: \"\";position: absolute;border-left: 1px solid gray;box-sizing: border-box;top: 0;bottom: 0;left: 50%;z-index: 0;}#sk-container-id-7 div.sk-serial {display: flex;flex-direction: column;align-items: center;background-color: white;padding-right: 0.2em;padding-left: 0.2em;position: relative;}#sk-container-id-7 div.sk-item {position: relative;z-index: 1;}#sk-container-id-7 div.sk-parallel {display: flex;align-items: stretch;justify-content: center;background-color: white;position: relative;}#sk-container-id-7 div.sk-item::before, #sk-container-id-7 div.sk-parallel-item::before {content: \"\";position: absolute;border-left: 1px solid gray;box-sizing: border-box;top: 0;bottom: 0;left: 50%;z-index: -1;}#sk-container-id-7 div.sk-parallel-item {display: flex;flex-direction: column;z-index: 1;position: relative;background-color: white;}#sk-container-id-7 div.sk-parallel-item:first-child::after {align-self: flex-end;width: 50%;}#sk-container-id-7 div.sk-parallel-item:last-child::after {align-self: flex-start;width: 50%;}#sk-container-id-7 div.sk-parallel-item:only-child::after {width: 0;}#sk-container-id-7 div.sk-dashed-wrapped {border: 1px dashed gray;margin: 0 0.4em 0.5em 0.4em;box-sizing: border-box;padding-bottom: 0.4em;background-color: white;}#sk-container-id-7 div.sk-label label {font-family: monospace;font-weight: bold;display: inline-block;line-height: 1.2em;}#sk-container-id-7 div.sk-label-container {text-align: center;}#sk-container-id-7 div.sk-container {/* jupyter's `normalize.less` sets `[hidden] { display: none; }` but bootstrap.min.css set `[hidden] { display: none !important; }` so we also need the `!important` here to be able to override the default hidden behavior on the sphinx rendered scikit-learn.org. See: https://github.com/scikit-learn/scikit-learn/issues/21755 */display: inline-block !important;position: relative;}#sk-container-id-7 div.sk-text-repr-fallback {display: none;}</style><div id=\"sk-container-id-7\" class=\"sk-top-container\"><div class=\"sk-text-repr-fallback\"><pre>GradientBoostingRegressor(loss=&#x27;huber&#x27;, max_depth=2, max_features=&#x27;sqrt&#x27;,\n",
              "                          min_samples_split=54, n_estimators=1000,\n",
              "                          random_state=42, warm_start=True)</pre><b>In a Jupyter environment, please rerun this cell to show the HTML representation or trust the notebook. <br />On GitHub, the HTML representation is unable to render, please try loading this page with nbviewer.org.</b></div><div class=\"sk-container\" hidden><div class=\"sk-item\"><div class=\"sk-estimator sk-toggleable\"><input class=\"sk-toggleable__control sk-hidden--visually\" id=\"sk-estimator-id-7\" type=\"checkbox\" checked><label for=\"sk-estimator-id-7\" class=\"sk-toggleable__label sk-toggleable__label-arrow\">GradientBoostingRegressor</label><div class=\"sk-toggleable__content\"><pre>GradientBoostingRegressor(loss=&#x27;huber&#x27;, max_depth=2, max_features=&#x27;sqrt&#x27;,\n",
              "                          min_samples_split=54, n_estimators=1000,\n",
              "                          random_state=42, warm_start=True)</pre></div></div></div></div></div>"
            ],
            "text/plain": [
              "GradientBoostingRegressor(loss='huber', max_depth=2, max_features='sqrt',\n",
              "                          min_samples_split=54, n_estimators=1000,\n",
              "                          random_state=42, warm_start=True)"
            ]
          },
          "execution_count": 43,
          "metadata": {},
          "output_type": "execute_result"
        }
      ],
      "source": [
        "m_GBR = GradientBoostingRegressor(warm_start=True, max_depth=2, min_samples_split=54, n_estimators=1000, learning_rate=0.1, max_features='sqrt', loss='huber', random_state=42)\n",
        "m_GBR.fit(X_train,y_train)"
      ]
    },
    {
      "cell_type": "code",
      "execution_count": 33,
      "metadata": {},
      "outputs": [
        {
          "data": {
            "text/html": [
              "<style>#sk-container-id-2 {color: black;background-color: white;}#sk-container-id-2 pre{padding: 0;}#sk-container-id-2 div.sk-toggleable {background-color: white;}#sk-container-id-2 label.sk-toggleable__label {cursor: pointer;display: block;width: 100%;margin-bottom: 0;padding: 0.3em;box-sizing: border-box;text-align: center;}#sk-container-id-2 label.sk-toggleable__label-arrow:before {content: \"▸\";float: left;margin-right: 0.25em;color: #696969;}#sk-container-id-2 label.sk-toggleable__label-arrow:hover:before {color: black;}#sk-container-id-2 div.sk-estimator:hover label.sk-toggleable__label-arrow:before {color: black;}#sk-container-id-2 div.sk-toggleable__content {max-height: 0;max-width: 0;overflow: hidden;text-align: left;background-color: #f0f8ff;}#sk-container-id-2 div.sk-toggleable__content pre {margin: 0.2em;color: black;border-radius: 0.25em;background-color: #f0f8ff;}#sk-container-id-2 input.sk-toggleable__control:checked~div.sk-toggleable__content {max-height: 200px;max-width: 100%;overflow: auto;}#sk-container-id-2 input.sk-toggleable__control:checked~label.sk-toggleable__label-arrow:before {content: \"▾\";}#sk-container-id-2 div.sk-estimator input.sk-toggleable__control:checked~label.sk-toggleable__label {background-color: #d4ebff;}#sk-container-id-2 div.sk-label input.sk-toggleable__control:checked~label.sk-toggleable__label {background-color: #d4ebff;}#sk-container-id-2 input.sk-hidden--visually {border: 0;clip: rect(1px 1px 1px 1px);clip: rect(1px, 1px, 1px, 1px);height: 1px;margin: -1px;overflow: hidden;padding: 0;position: absolute;width: 1px;}#sk-container-id-2 div.sk-estimator {font-family: monospace;background-color: #f0f8ff;border: 1px dotted black;border-radius: 0.25em;box-sizing: border-box;margin-bottom: 0.5em;}#sk-container-id-2 div.sk-estimator:hover {background-color: #d4ebff;}#sk-container-id-2 div.sk-parallel-item::after {content: \"\";width: 100%;border-bottom: 1px solid gray;flex-grow: 1;}#sk-container-id-2 div.sk-label:hover label.sk-toggleable__label {background-color: #d4ebff;}#sk-container-id-2 div.sk-serial::before {content: \"\";position: absolute;border-left: 1px solid gray;box-sizing: border-box;top: 0;bottom: 0;left: 50%;z-index: 0;}#sk-container-id-2 div.sk-serial {display: flex;flex-direction: column;align-items: center;background-color: white;padding-right: 0.2em;padding-left: 0.2em;position: relative;}#sk-container-id-2 div.sk-item {position: relative;z-index: 1;}#sk-container-id-2 div.sk-parallel {display: flex;align-items: stretch;justify-content: center;background-color: white;position: relative;}#sk-container-id-2 div.sk-item::before, #sk-container-id-2 div.sk-parallel-item::before {content: \"\";position: absolute;border-left: 1px solid gray;box-sizing: border-box;top: 0;bottom: 0;left: 50%;z-index: -1;}#sk-container-id-2 div.sk-parallel-item {display: flex;flex-direction: column;z-index: 1;position: relative;background-color: white;}#sk-container-id-2 div.sk-parallel-item:first-child::after {align-self: flex-end;width: 50%;}#sk-container-id-2 div.sk-parallel-item:last-child::after {align-self: flex-start;width: 50%;}#sk-container-id-2 div.sk-parallel-item:only-child::after {width: 0;}#sk-container-id-2 div.sk-dashed-wrapped {border: 1px dashed gray;margin: 0 0.4em 0.5em 0.4em;box-sizing: border-box;padding-bottom: 0.4em;background-color: white;}#sk-container-id-2 div.sk-label label {font-family: monospace;font-weight: bold;display: inline-block;line-height: 1.2em;}#sk-container-id-2 div.sk-label-container {text-align: center;}#sk-container-id-2 div.sk-container {/* jupyter's `normalize.less` sets `[hidden] { display: none; }` but bootstrap.min.css set `[hidden] { display: none !important; }` so we also need the `!important` here to be able to override the default hidden behavior on the sphinx rendered scikit-learn.org. See: https://github.com/scikit-learn/scikit-learn/issues/21755 */display: inline-block !important;position: relative;}#sk-container-id-2 div.sk-text-repr-fallback {display: none;}</style><div id=\"sk-container-id-2\" class=\"sk-top-container\"><div class=\"sk-text-repr-fallback\"><pre>GradientBoostingRegressor(learning_rate=0.04828771302791891, max_depth=4,\n",
              "                          max_features=&#x27;sqrt&#x27;, min_samples_split=69,\n",
              "                          n_estimators=612, warm_start=True)</pre><b>In a Jupyter environment, please rerun this cell to show the HTML representation or trust the notebook. <br />On GitHub, the HTML representation is unable to render, please try loading this page with nbviewer.org.</b></div><div class=\"sk-container\" hidden><div class=\"sk-item\"><div class=\"sk-estimator sk-toggleable\"><input class=\"sk-toggleable__control sk-hidden--visually\" id=\"sk-estimator-id-2\" type=\"checkbox\" checked><label for=\"sk-estimator-id-2\" class=\"sk-toggleable__label sk-toggleable__label-arrow\">GradientBoostingRegressor</label><div class=\"sk-toggleable__content\"><pre>GradientBoostingRegressor(learning_rate=0.04828771302791891, max_depth=4,\n",
              "                          max_features=&#x27;sqrt&#x27;, min_samples_split=69,\n",
              "                          n_estimators=612, warm_start=True)</pre></div></div></div></div></div>"
            ],
            "text/plain": [
              "GradientBoostingRegressor(learning_rate=0.04828771302791891, max_depth=4,\n",
              "                          max_features='sqrt', min_samples_split=69,\n",
              "                          n_estimators=612, warm_start=True)"
            ]
          },
          "execution_count": 33,
          "metadata": {},
          "output_type": "execute_result"
        }
      ],
      "source": [
        "m_GBR = GradientBoostingRegressor(warm_start=True, max_depth=4, min_samples_split=69, n_estimators=612, learning_rate=0.04828771302791891, max_features='sqrt',loss= 'squared_error')\n",
        "m_GBR.fit(X_train,y_train)"
      ]
    },
    {
      "cell_type": "code",
      "execution_count": 34,
      "metadata": {
        "id": "_ql_E-p1DB7g"
      },
      "outputs": [],
      "source": [
        "y_pred_GBR = m_GBR.predict(X_val)"
      ]
    },
    {
      "cell_type": "code",
      "execution_count": 35,
      "metadata": {
        "colab": {
          "base_uri": "https://localhost:8080/"
        },
        "id": "zrbotTOFDHfb",
        "outputId": "b6330e02-debb-4202-d6e0-82ef193936d3"
      },
      "outputs": [
        {
          "data": {
            "text/plain": [
              "0.13130611058601466"
            ]
          },
          "execution_count": 35,
          "metadata": {},
          "output_type": "execute_result"
        }
      ],
      "source": [
        "mean_squared_error(np.log(np.where(y_pred_GBR<0, np.mean(y_train), y_pred_GBR)), np.log(y_val), squared = False)"
      ]
    },
    {
      "cell_type": "code",
      "execution_count": null,
      "metadata": {},
      "outputs": [],
      "source": [
        "def objective(trial, X_train, y_train, X_val, y_val):\n",
        "    X = X_train\n",
        "    y = y_train\n",
        "\n",
        "    warm_start = trial.suggest_categorical('warm_start', [True, False])\n",
        "    max_depth = trial.suggest_int('max_depth', 2, 10)\n",
        "    min_samples_split = trial.suggest_int('min_samples_split', 2, 100)\n",
        "    n_estimators = trial.suggest_int('n_estimators', 100, 1000)\n",
        "    learning_rate = trial.suggest_float('learning_rate', 0.01, 0.1)\n",
        "    max_features = trial.suggest_categorical('max_features', ['sqrt', 'log2'])\n",
        "    loss = trial.suggest_categorical('loss', ['squared_error', 'absolute_error', 'huber', 'quantile'])\n",
        "\n",
        "    GBR = GradientBoostingRegressor(warm_start=warm_start, max_depth=max_depth, min_samples_split=min_samples_split, n_estimators=n_estimators, learning_rate=learning_rate, max_features=max_features, loss=loss)\n",
        "    GBR.fit(X, y)\n",
        "    y_pred = GBR.predict(X_val)\n",
        "    score = mean_squared_error(np.log(np.where(y_pred<0, np.mean(y), y_pred)), np.log(y_val), squared = False)\n",
        "    return score\n",
        "\n",
        "study = optuna.create_study(direction='minimize')\n",
        "study.optimize(lambda trial: objective(trial, X_train, y_train, X_val, y_val), n_trials=50)"
      ]
    },
    {
      "cell_type": "code",
      "execution_count": 123,
      "metadata": {},
      "outputs": [
        {
          "name": "stdout",
          "output_type": "stream",
          "text": [
            "Accuracy: 0.12117831997400648\n",
            "Best hyperparameters: {'warm_start': True, 'max_depth': 4, 'min_samples_split': 69, 'n_estimators': 612, 'learning_rate': 0.04828771302791891, 'max_features': 'sqrt', 'loss': 'squared_error'}\n"
          ]
        }
      ],
      "source": [
        "trial = study.best_trial\n",
        "print('Accuracy: {}'.format(trial.value))\n",
        "print(\"Best hyperparameters: {}\".format(trial.params))"
      ]
    },
    {
      "cell_type": "code",
      "execution_count": null,
      "metadata": {},
      "outputs": [],
      "source": [
        "optuna.visualization.plot_optimization_history(study)"
      ]
    },
    {
      "cell_type": "code",
      "execution_count": null,
      "metadata": {},
      "outputs": [],
      "source": [
        "optuna.visualization.plot_slice(study)"
      ]
    },
    {
      "cell_type": "markdown",
      "metadata": {
        "id": "EMNhArjEx5eF"
      },
      "source": [
        "export na kaggle"
      ]
    },
    {
      "cell_type": "code",
      "execution_count": 108,
      "metadata": {
        "colab": {
          "base_uri": "https://localhost:8080/"
        },
        "id": "1wp0GhjRzDpw",
        "outputId": "997489cf-3a17-4e57-fa91-553f7247cc02"
      },
      "outputs": [
        {
          "data": {
            "text/plain": [
              "(1459, 80)"
            ]
          },
          "execution_count": 108,
          "metadata": {},
          "output_type": "execute_result"
        }
      ],
      "source": [
        "df_test.shape"
      ]
    },
    {
      "cell_type": "code",
      "execution_count": null,
      "metadata": {
        "colab": {
          "base_uri": "https://localhost:8080/"
        },
        "id": "B5Jo0a6qx-NR",
        "outputId": "fe9212d7-c9d0-4c3e-b421-9532eb00709f"
      },
      "outputs": [],
      "source": [
        "# LinearRegression\n",
        "new_submission = df_test[['Id']]\n",
        "y_pred_kaggle = m_lr.predict(X_tst)\n",
        "new_submission['SalePrice'] = y_pred_kaggle\n",
        "new_submission.to_csv(\"LinearRegression.csv\", index = False)"
      ]
    },
    {
      "cell_type": "code",
      "execution_count": null,
      "metadata": {
        "colab": {
          "base_uri": "https://localhost:8080/"
        },
        "id": "DUnud5345_fW",
        "outputId": "f6af3fcd-6586-4d0c-a7ad-6eee13d325c9"
      },
      "outputs": [],
      "source": [
        "# DecisionTreeRegressor\n",
        "new_submission = df_test[['Id']]\n",
        "y_pred_kaggle = m_tree.predict(X_tst)\n",
        "new_submission['SalePrice'] = y_pred_kaggle\n",
        "new_submission.to_csv(\"DecisionTreeRegressor.csv\", index = False)"
      ]
    },
    {
      "cell_type": "code",
      "execution_count": null,
      "metadata": {
        "colab": {
          "base_uri": "https://localhost:8080/"
        },
        "id": "iKjb57q-BbdQ",
        "outputId": "1066c7d7-795b-40e4-b17e-47b2836b5e1d"
      },
      "outputs": [],
      "source": [
        "# SGDClassifier\n",
        "new_submission = df_test[['Id']]\n",
        "y_pred_kaggle = m_SGDClassifier.predict(X_tst)\n",
        "new_submission['SalePrice'] = y_pred_kaggle\n",
        "new_submission.to_csv(\"SGDClassifier.csv\", index = False)"
      ]
    },
    {
      "cell_type": "code",
      "execution_count": null,
      "metadata": {
        "colab": {
          "base_uri": "https://localhost:8080/"
        },
        "id": "7O-giIwKDdTh",
        "outputId": "aa7fdf91-22b8-4bf0-c28d-232d87efc679"
      },
      "outputs": [],
      "source": [
        "# GradientBoostingRegressor\n",
        "new_submission = df_test[['Id']]\n",
        "y_pred_kaggle = m_GBR.predict(X_tst)\n",
        "new_submission['SalePrice'] = y_pred_kaggle\n",
        "new_submission.to_csv(\"GradientBoostingRegressor.csv\", index = False)"
      ]
    }
  ],
  "metadata": {
    "colab": {
      "provenance": []
    },
    "kernelspec": {
      "display_name": "Python 3",
      "name": "python3"
    },
    "language_info": {
      "codemirror_mode": {
        "name": "ipython",
        "version": 3
      },
      "file_extension": ".py",
      "mimetype": "text/x-python",
      "name": "python",
      "nbconvert_exporter": "python",
      "pygments_lexer": "ipython3",
      "version": "3.10.9"
    }
  },
  "nbformat": 4,
  "nbformat_minor": 0
}
